{
 "cells": [
  {
   "cell_type": "markdown",
   "metadata": {},
   "source": [
    "### Heroes Of Pymoli Data Analysis\n",
    "* Of the 1163 active players, the vast majority are male (84%). There also exists, a smaller, but notable proportion of female players (14%).\n",
    "\n",
    "* Our peak age demographic falls between 20-24 (44.8%) with secondary groups falling between 15-19 (18.60%) and 25-29 (13.4%).  \n",
    "-----"
   ]
  },
  {
   "cell_type": "markdown",
   "metadata": {},
   "source": [
    "### Note\n",
    "* Instructions have been included for each segment. You do not have to follow them exactly, but they are included to help you think through the steps."
   ]
  },
  {
   "cell_type": "code",
   "execution_count": 1,
   "metadata": {},
   "outputs": [
    {
     "data": {
      "text/html": [
       "<div>\n",
       "<style scoped>\n",
       "    .dataframe tbody tr th:only-of-type {\n",
       "        vertical-align: middle;\n",
       "    }\n",
       "\n",
       "    .dataframe tbody tr th {\n",
       "        vertical-align: top;\n",
       "    }\n",
       "\n",
       "    .dataframe thead th {\n",
       "        text-align: right;\n",
       "    }\n",
       "</style>\n",
       "<table border=\"1\" class=\"dataframe\">\n",
       "  <thead>\n",
       "    <tr style=\"text-align: right;\">\n",
       "      <th></th>\n",
       "      <th>Purchase ID</th>\n",
       "      <th>SN</th>\n",
       "      <th>Age</th>\n",
       "      <th>Gender</th>\n",
       "      <th>Item ID</th>\n",
       "      <th>Item Name</th>\n",
       "      <th>Price</th>\n",
       "    </tr>\n",
       "  </thead>\n",
       "  <tbody>\n",
       "    <tr>\n",
       "      <th>0</th>\n",
       "      <td>0</td>\n",
       "      <td>Lisim78</td>\n",
       "      <td>20</td>\n",
       "      <td>Male</td>\n",
       "      <td>108</td>\n",
       "      <td>Extraction, Quickblade Of Trembling Hands</td>\n",
       "      <td>3.53</td>\n",
       "    </tr>\n",
       "    <tr>\n",
       "      <th>1</th>\n",
       "      <td>1</td>\n",
       "      <td>Lisovynya38</td>\n",
       "      <td>40</td>\n",
       "      <td>Male</td>\n",
       "      <td>143</td>\n",
       "      <td>Frenzied Scimitar</td>\n",
       "      <td>1.56</td>\n",
       "    </tr>\n",
       "    <tr>\n",
       "      <th>2</th>\n",
       "      <td>2</td>\n",
       "      <td>Ithergue48</td>\n",
       "      <td>24</td>\n",
       "      <td>Male</td>\n",
       "      <td>92</td>\n",
       "      <td>Final Critic</td>\n",
       "      <td>4.88</td>\n",
       "    </tr>\n",
       "    <tr>\n",
       "      <th>3</th>\n",
       "      <td>3</td>\n",
       "      <td>Chamassasya86</td>\n",
       "      <td>24</td>\n",
       "      <td>Male</td>\n",
       "      <td>100</td>\n",
       "      <td>Blindscythe</td>\n",
       "      <td>3.27</td>\n",
       "    </tr>\n",
       "    <tr>\n",
       "      <th>4</th>\n",
       "      <td>4</td>\n",
       "      <td>Iskosia90</td>\n",
       "      <td>23</td>\n",
       "      <td>Male</td>\n",
       "      <td>131</td>\n",
       "      <td>Fury</td>\n",
       "      <td>1.44</td>\n",
       "    </tr>\n",
       "  </tbody>\n",
       "</table>\n",
       "</div>"
      ],
      "text/plain": [
       "   Purchase ID             SN  Age Gender  Item ID  \\\n",
       "0            0        Lisim78   20   Male      108   \n",
       "1            1    Lisovynya38   40   Male      143   \n",
       "2            2     Ithergue48   24   Male       92   \n",
       "3            3  Chamassasya86   24   Male      100   \n",
       "4            4      Iskosia90   23   Male      131   \n",
       "\n",
       "                                   Item Name  Price  \n",
       "0  Extraction, Quickblade Of Trembling Hands   3.53  \n",
       "1                          Frenzied Scimitar   1.56  \n",
       "2                               Final Critic   4.88  \n",
       "3                                Blindscythe   3.27  \n",
       "4                                       Fury   1.44  "
      ]
     },
     "execution_count": 1,
     "metadata": {},
     "output_type": "execute_result"
    }
   ],
   "source": [
    "\n",
    "import pandas as pd\n",
    "import numpy as np\n",
    "\n",
    "# File to Load \n",
    "file_to_load = \"Resources/purchase_data.csv\"\n",
    "\n",
    "# Read Purchasing File and store into Pandas data frame\n",
    "purchase_data = pd.read_csv(file_to_load)\n",
    "purchase_data.head()"
   ]
  },
  {
   "cell_type": "markdown",
   "metadata": {},
   "source": [
    "## Player Count"
   ]
  },
  {
   "cell_type": "markdown",
   "metadata": {},
   "source": [
    "* Display the total number of players\n"
   ]
  },
  {
   "cell_type": "code",
   "execution_count": 2,
   "metadata": {},
   "outputs": [
    {
     "data": {
      "text/plain": [
       "576"
      ]
     },
     "execution_count": 2,
     "metadata": {},
     "output_type": "execute_result"
    }
   ],
   "source": [
    "total_players = purchase_data[\"SN\"].nunique() \n",
    "total_players\n"
   ]
  },
  {
   "cell_type": "markdown",
   "metadata": {},
   "source": [
    "## Purchasing Analysis (Total)"
   ]
  },
  {
   "cell_type": "markdown",
   "metadata": {},
   "source": [
    "* Run basic calculations to obtain number of unique items, average price, etc.\n",
    "\n",
    "\n",
    "* Create a summary data frame to hold the results\n",
    "\n",
    "\n",
    "* Optional: give the displayed data cleaner formatting\n",
    "\n",
    "\n",
    "* Display the summary data frame\n"
   ]
  },
  {
   "cell_type": "code",
   "execution_count": 3,
   "metadata": {
    "scrolled": true
   },
   "outputs": [
    {
     "data": {
      "text/plain": [
       "183"
      ]
     },
     "execution_count": 3,
     "metadata": {},
     "output_type": "execute_result"
    }
   ],
   "source": [
    "#number of unqiue items by searching by item ID, by using nunique\n",
    "\n",
    "unique_items = purchase_data[\"Item ID\"].nunique() \n",
    "unique_items\n",
    "\n",
    "\n"
   ]
  },
  {
   "cell_type": "code",
   "execution_count": 4,
   "metadata": {},
   "outputs": [
    {
     "data": {
      "text/plain": [
       "3.050987179487176"
      ]
     },
     "execution_count": 4,
     "metadata": {},
     "output_type": "execute_result"
    }
   ],
   "source": [
    "#calculate the average price, mean is average in python\n",
    "\n",
    "avg_price = purchase_data[\"Price\"].mean()\n",
    "avg_price"
   ]
  },
  {
   "cell_type": "code",
   "execution_count": 5,
   "metadata": {},
   "outputs": [
    {
     "data": {
      "text/plain": [
       "780"
      ]
     },
     "execution_count": 5,
     "metadata": {},
     "output_type": "execute_result"
    }
   ],
   "source": [
    "#number of purchases made, use count function\n",
    "num_purchase = purchase_data[\"Purchase ID\"].count()\n",
    "num_purchase \n"
   ]
  },
  {
   "cell_type": "code",
   "execution_count": 6,
   "metadata": {},
   "outputs": [
    {
     "data": {
      "text/plain": [
       "2379.77"
      ]
     },
     "execution_count": 6,
     "metadata": {},
     "output_type": "execute_result"
    }
   ],
   "source": [
    "# the total revenue, add everything up using the sum function \n",
    "\n",
    "total_purchase = purchase_data[\"Price\"].sum() \n",
    "total_purchase "
   ]
  },
  {
   "cell_type": "code",
   "execution_count": 7,
   "metadata": {},
   "outputs": [
    {
     "data": {
      "text/html": [
       "<div>\n",
       "<style scoped>\n",
       "    .dataframe tbody tr th:only-of-type {\n",
       "        vertical-align: middle;\n",
       "    }\n",
       "\n",
       "    .dataframe tbody tr th {\n",
       "        vertical-align: top;\n",
       "    }\n",
       "\n",
       "    .dataframe thead th {\n",
       "        text-align: right;\n",
       "    }\n",
       "</style>\n",
       "<table border=\"1\" class=\"dataframe\">\n",
       "  <thead>\n",
       "    <tr style=\"text-align: right;\">\n",
       "      <th></th>\n",
       "      <th>Number of Unique Items</th>\n",
       "      <th>Average Price</th>\n",
       "      <th>Number of Purchases</th>\n",
       "      <th>Total Revenue</th>\n",
       "    </tr>\n",
       "  </thead>\n",
       "  <tbody>\n",
       "    <tr>\n",
       "      <th>0</th>\n",
       "      <td>183</td>\n",
       "      <td>$3.05</td>\n",
       "      <td>780</td>\n",
       "      <td>$2,379.77</td>\n",
       "    </tr>\n",
       "  </tbody>\n",
       "</table>\n",
       "</div>"
      ],
      "text/plain": [
       "   Number of Unique Items Average Price  Number of Purchases Total Revenue\n",
       "0                     183         $3.05                  780     $2,379.77"
      ]
     },
     "execution_count": 7,
     "metadata": {},
     "output_type": "execute_result"
    }
   ],
   "source": [
    "# make table for the analysis \n",
    "\n",
    "purchase_analysis_df = pd.DataFrame({\n",
    "    \"Number of Unique Items\": [unique_items],\n",
    "    \"Average Price\": [avg_price],\n",
    "    \"Number of Purchases\": [num_purchase],\n",
    "    \"Total Revenue\": [total_purchase],\n",
    "})\n",
    "purchase_analysis_df[\"Average Price\"] = purchase_analysis_df[\"Average Price\"].map(\"${:,.2f}\".format)\n",
    "purchase_analysis_df[\"Total Revenue\"] = purchase_analysis_df[\"Total Revenue\"].map(\"${:,.2f}\".format)\n",
    "purchase_analysis_df"
   ]
  },
  {
   "cell_type": "markdown",
   "metadata": {},
   "source": [
    "## Gender Demographics"
   ]
  },
  {
   "cell_type": "markdown",
   "metadata": {},
   "source": [
    "* Percentage and Count of Male Players\n",
    "\n",
    "\n",
    "* Percentage and Count of Female Players\n",
    "\n",
    "\n",
    "* Percentage and Count of Other / Non-Disclosed\n",
    "\n",
    "\n"
   ]
  },
  {
   "cell_type": "code",
   "execution_count": 8,
   "metadata": {},
   "outputs": [
    {
     "data": {
      "text/html": [
       "<style  type=\"text/css\" >\n",
       "</style>  \n",
       "<table id=\"T_1aa9558e_fb13_11e8_838b_8c8590ad5c24\" > \n",
       "<thead>    <tr> \n",
       "        <th class=\"blank level0\" ></th> \n",
       "        <th class=\"col_heading level0 col0\" ># of Players</th> \n",
       "        <th class=\"col_heading level0 col1\" >% of Players</th> \n",
       "    </tr>    <tr> \n",
       "        <th class=\"index_name level0\" >Gender</th> \n",
       "        <th class=\"blank\" ></th> \n",
       "        <th class=\"blank\" ></th> \n",
       "    </tr></thead> \n",
       "<tbody>    <tr> \n",
       "        <th id=\"T_1aa9558e_fb13_11e8_838b_8c8590ad5c24level0_row0\" class=\"row_heading level0 row0\" >Male</th> \n",
       "        <td id=\"T_1aa9558e_fb13_11e8_838b_8c8590ad5c24row0_col0\" class=\"data row0 col0\" >484</td> \n",
       "        <td id=\"T_1aa9558e_fb13_11e8_838b_8c8590ad5c24row0_col1\" class=\"data row0 col1\" >84.0%</td> \n",
       "    </tr>    <tr> \n",
       "        <th id=\"T_1aa9558e_fb13_11e8_838b_8c8590ad5c24level0_row1\" class=\"row_heading level0 row1\" >Female</th> \n",
       "        <td id=\"T_1aa9558e_fb13_11e8_838b_8c8590ad5c24row1_col0\" class=\"data row1 col0\" >81</td> \n",
       "        <td id=\"T_1aa9558e_fb13_11e8_838b_8c8590ad5c24row1_col1\" class=\"data row1 col1\" >14.1%</td> \n",
       "    </tr>    <tr> \n",
       "        <th id=\"T_1aa9558e_fb13_11e8_838b_8c8590ad5c24level0_row2\" class=\"row_heading level0 row2\" >Other / Non-Disclosed</th> \n",
       "        <td id=\"T_1aa9558e_fb13_11e8_838b_8c8590ad5c24row2_col0\" class=\"data row2 col0\" >11</td> \n",
       "        <td id=\"T_1aa9558e_fb13_11e8_838b_8c8590ad5c24row2_col1\" class=\"data row2 col1\" >1.9%</td> \n",
       "    </tr></tbody> \n",
       "</table> "
      ],
      "text/plain": [
       "<pandas.io.formats.style.Styler at 0x110f69c88>"
      ]
     },
     "execution_count": 8,
     "metadata": {},
     "output_type": "execute_result"
    }
   ],
   "source": [
    "no_dup_players = purchase_data.drop_duplicates(['SN'], keep ='last')\n",
    "\n",
    "#counts gender values from the df without duplicate screen names\n",
    "gender_counts = no_dup_players['Gender'].value_counts().reset_index()\n",
    "\n",
    "#column which is a count from line above\n",
    "gender_counts['% of Players'] = gender_counts['Gender']/total_players * 100\n",
    "\n",
    "#rename the  columns\n",
    "gender_counts.rename(columns = {'index': 'Gender', 'Gender': '# of Players'}, inplace = True)\n",
    "\n",
    "#sets index as Gender \n",
    "gender_counts.set_index(['Gender'], inplace = True)\n",
    "\n",
    "#format table\n",
    "gender_counts.style.format({\"% of Players\": \"{:.1f}%\"})\n"
   ]
  },
  {
   "cell_type": "code",
   "execution_count": null,
   "metadata": {},
   "outputs": [],
   "source": []
  },
  {
   "cell_type": "markdown",
   "metadata": {},
   "source": [
    "\n",
    "## Purchasing Analysis (Gender)"
   ]
  },
  {
   "cell_type": "markdown",
   "metadata": {},
   "source": [
    "* Run basic calculations to obtain purchase count, avg. purchase price, avg. purchase total per person etc. by gender\n",
    "\n",
    "\n",
    "\n",
    "\n",
    "* Create a summary data frame to hold the results\n",
    "\n",
    "\n",
    "* Optional: give the displayed data cleaner formatting\n",
    "\n",
    "\n",
    "* Display the summary data frame"
   ]
  },
  {
   "cell_type": "code",
   "execution_count": 9,
   "metadata": {},
   "outputs": [
    {
     "data": {
      "text/plain": [
       "Gender\n",
       "Female                   113\n",
       "Male                     652\n",
       "Other / Non-Disclosed     15\n",
       "Name: SN, dtype: int64"
      ]
     },
     "execution_count": 9,
     "metadata": {},
     "output_type": "execute_result"
    }
   ],
   "source": [
    "dfg = purchase_data.groupby(\"Gender\").SN.count()\n",
    "\n",
    "dfg\n"
   ]
  },
  {
   "cell_type": "code",
   "execution_count": 96,
   "metadata": {},
   "outputs": [
    {
     "data": {
      "text/html": [
       "<style  type=\"text/css\" >\n",
       "</style>  \n",
       "<table id=\"T_20000da8_fb21_11e8_838b_8c8590ad5c24\" > \n",
       "<thead>    <tr> \n",
       "        <th class=\"blank level0\" ></th> \n",
       "        <th class=\"col_heading level0 col0\" ># of Purchases</th> \n",
       "        <th class=\"col_heading level0 col1\" >Total Purchase Value</th> \n",
       "        <th class=\"col_heading level0 col2\" >Average Purchase Price</th> \n",
       "        <th class=\"col_heading level0 col3\" >Normalized Totals</th> \n",
       "        <th class=\"col_heading level0 col4\" ># of Players</th> \n",
       "        <th class=\"col_heading level0 col5\" >% of Players</th> \n",
       "    </tr>    <tr> \n",
       "        <th class=\"index_name level0\" >Gender</th> \n",
       "        <th class=\"blank\" ></th> \n",
       "        <th class=\"blank\" ></th> \n",
       "        <th class=\"blank\" ></th> \n",
       "        <th class=\"blank\" ></th> \n",
       "        <th class=\"blank\" ></th> \n",
       "        <th class=\"blank\" ></th> \n",
       "    </tr></thead> \n",
       "<tbody>    <tr> \n",
       "        <th id=\"T_20000da8_fb21_11e8_838b_8c8590ad5c24level0_row0\" class=\"row_heading level0 row0\" >Female</th> \n",
       "        <td id=\"T_20000da8_fb21_11e8_838b_8c8590ad5c24row0_col0\" class=\"data row0 col0\" >113</td> \n",
       "        <td id=\"T_20000da8_fb21_11e8_838b_8c8590ad5c24row0_col1\" class=\"data row0 col1\" >$361.94</td> \n",
       "        <td id=\"T_20000da8_fb21_11e8_838b_8c8590ad5c24row0_col2\" class=\"data row0 col2\" >$3.20</td> \n",
       "        <td id=\"T_20000da8_fb21_11e8_838b_8c8590ad5c24row0_col3\" class=\"data row0 col3\" >$4.47</td> \n",
       "        <td id=\"T_20000da8_fb21_11e8_838b_8c8590ad5c24row0_col4\" class=\"data row0 col4\" >81</td> \n",
       "        <td id=\"T_20000da8_fb21_11e8_838b_8c8590ad5c24row0_col5\" class=\"data row0 col5\" >14.0625</td> \n",
       "    </tr>    <tr> \n",
       "        <th id=\"T_20000da8_fb21_11e8_838b_8c8590ad5c24level0_row1\" class=\"row_heading level0 row1\" >Male</th> \n",
       "        <td id=\"T_20000da8_fb21_11e8_838b_8c8590ad5c24row1_col0\" class=\"data row1 col0\" >652</td> \n",
       "        <td id=\"T_20000da8_fb21_11e8_838b_8c8590ad5c24row1_col1\" class=\"data row1 col1\" >$1967.64</td> \n",
       "        <td id=\"T_20000da8_fb21_11e8_838b_8c8590ad5c24row1_col2\" class=\"data row1 col2\" >$3.02</td> \n",
       "        <td id=\"T_20000da8_fb21_11e8_838b_8c8590ad5c24row1_col3\" class=\"data row1 col3\" >$4.07</td> \n",
       "        <td id=\"T_20000da8_fb21_11e8_838b_8c8590ad5c24row1_col4\" class=\"data row1 col4\" >484</td> \n",
       "        <td id=\"T_20000da8_fb21_11e8_838b_8c8590ad5c24row1_col5\" class=\"data row1 col5\" >84.0278</td> \n",
       "    </tr>    <tr> \n",
       "        <th id=\"T_20000da8_fb21_11e8_838b_8c8590ad5c24level0_row2\" class=\"row_heading level0 row2\" >Other / Non-Disclosed</th> \n",
       "        <td id=\"T_20000da8_fb21_11e8_838b_8c8590ad5c24row2_col0\" class=\"data row2 col0\" >15</td> \n",
       "        <td id=\"T_20000da8_fb21_11e8_838b_8c8590ad5c24row2_col1\" class=\"data row2 col1\" >$50.19</td> \n",
       "        <td id=\"T_20000da8_fb21_11e8_838b_8c8590ad5c24row2_col2\" class=\"data row2 col2\" >$3.35</td> \n",
       "        <td id=\"T_20000da8_fb21_11e8_838b_8c8590ad5c24row2_col3\" class=\"data row2 col3\" >$4.56</td> \n",
       "        <td id=\"T_20000da8_fb21_11e8_838b_8c8590ad5c24row2_col4\" class=\"data row2 col4\" >11</td> \n",
       "        <td id=\"T_20000da8_fb21_11e8_838b_8c8590ad5c24row2_col5\" class=\"data row2 col5\" >1.90972</td> \n",
       "    </tr></tbody> \n",
       "</table> "
      ],
      "text/plain": [
       "<pandas.io.formats.style.Styler at 0x116189a20>"
      ]
     },
     "execution_count": 96,
     "metadata": {},
     "output_type": "execute_result"
    }
   ],
   "source": [
    "#groups all the genders and gives u the count \n",
    "\n",
    "pur_count_by_gen = pd.DataFrame(purchase_data.groupby('Gender')['Gender'].count())\n",
    "\n",
    "# sums price by  matching gender\n",
    "total_pur_by_gen = pd.DataFrame(purchase_data.groupby('Gender')['Price'].sum())\n",
    "\n",
    "#merges the two data frames from above\n",
    "purchaseanalysis = pd.merge(pur_count_by_gen, total_pur_by_gen, left_index = True, right_index = True)\n",
    "\n",
    "#renames  the columns\n",
    "purchaseanalysis.rename(columns = {'Gender': '# of Purchases', 'Price':'Total Purchase Value'}, inplace=True)\n",
    "\n",
    "#adds column for average purchase price by gender by dividing total purcahse value by gender by # of purchases by gender\n",
    "purchaseanalysis['Average Purchase Price'] = purchaseanalysis['Total Purchase Value']/purchaseanalysis['# of Purchases']\n",
    "#merges gender counts from above table (excluding dup SNs) into current df \n",
    "purchaseanalysis = pur_analysis_gen.merge(gender_counts, left_index = True, right_index = True)\n",
    "# calculates and adds the total column by dividing total purchase value by the unqiue number of players \n",
    "purchaseanalysis['Normalized Totals'] = purchaseanalysis['Total Purchase Value']/purchaseanalysis['# of Players']\n",
    "purchaseanalysis\n",
    "\n",
    "\n",
    "purchaseanalysis.style.format({'Total Purchase Value': '${:.2f}', 'Average Purchase Price': '${:.2f}', 'Normalized Totals': '${:.2f}'})"
   ]
  },
  {
   "cell_type": "raw",
   "metadata": {},
   "source": [
    "## Age Demographics"
   ]
  },
  {
   "cell_type": "markdown",
   "metadata": {},
   "source": [
    "* Establish bins for ages\n",
    "\n",
    "\n",
    "* Categorize the existing players using the age bins. Hint: use pd.cut()\n",
    "\n",
    "\n",
    "* Calculate the numbers and percentages by age group\n",
    "\n",
    "\n",
    "* Create a summary data frame to hold the results\n",
    "\n",
    "\n",
    "* Optional: round the percentage column to two decimal points\n",
    "\n",
    "\n",
    "* Display Age Demographics Table\n"
   ]
  },
  {
   "cell_type": "code",
   "execution_count": 30,
   "metadata": {},
   "outputs": [
    {
     "name": "stderr",
     "output_type": "stream",
     "text": [
      "/Users/amandeeparora/anaconda3/lib/python3.7/site-packages/ipykernel_launcher.py:13: SettingWithCopyWarning: \n",
      "A value is trying to be set on a copy of a slice from a DataFrame.\n",
      "Try using .loc[row_indexer,col_indexer] = value instead\n",
      "\n",
      "See the caveats in the documentation: http://pandas.pydata.org/pandas-docs/stable/indexing.html#indexing-view-versus-copy\n",
      "  del sys.path[0]\n",
      "/Users/amandeeparora/anaconda3/lib/python3.7/site-packages/ipykernel_launcher.py:16: SettingWithCopyWarning: \n",
      "A value is trying to be set on a copy of a slice from a DataFrame\n",
      "\n",
      "See the caveats in the documentation: http://pandas.pydata.org/pandas-docs/stable/indexing.html#indexing-view-versus-copy\n",
      "  app.launch_new_instance()\n"
     ]
    },
    {
     "data": {
      "text/html": [
       "<div>\n",
       "<style scoped>\n",
       "    .dataframe tbody tr th:only-of-type {\n",
       "        vertical-align: middle;\n",
       "    }\n",
       "\n",
       "    .dataframe tbody tr th {\n",
       "        vertical-align: top;\n",
       "    }\n",
       "\n",
       "    .dataframe thead th {\n",
       "        text-align: right;\n",
       "    }\n",
       "</style>\n",
       "<table border=\"1\" class=\"dataframe\">\n",
       "  <thead>\n",
       "    <tr style=\"text-align: right;\">\n",
       "      <th></th>\n",
       "      <th>Age_Range</th>\n",
       "      <th>Total Count</th>\n",
       "      <th>Percentage of Players</th>\n",
       "    </tr>\n",
       "  </thead>\n",
       "  <tbody>\n",
       "    <tr>\n",
       "      <th>0</th>\n",
       "      <td>&lt;10</td>\n",
       "      <td>17</td>\n",
       "      <td>2.951389</td>\n",
       "    </tr>\n",
       "    <tr>\n",
       "      <th>1</th>\n",
       "      <td>10-14</td>\n",
       "      <td>22</td>\n",
       "      <td>3.819444</td>\n",
       "    </tr>\n",
       "    <tr>\n",
       "      <th>2</th>\n",
       "      <td>15-19</td>\n",
       "      <td>107</td>\n",
       "      <td>18.576389</td>\n",
       "    </tr>\n",
       "    <tr>\n",
       "      <th>3</th>\n",
       "      <td>20-24</td>\n",
       "      <td>258</td>\n",
       "      <td>44.791667</td>\n",
       "    </tr>\n",
       "    <tr>\n",
       "      <th>4</th>\n",
       "      <td>25-29</td>\n",
       "      <td>77</td>\n",
       "      <td>13.368056</td>\n",
       "    </tr>\n",
       "    <tr>\n",
       "      <th>5</th>\n",
       "      <td>30-34</td>\n",
       "      <td>52</td>\n",
       "      <td>9.027778</td>\n",
       "    </tr>\n",
       "    <tr>\n",
       "      <th>6</th>\n",
       "      <td>35-39</td>\n",
       "      <td>31</td>\n",
       "      <td>5.381944</td>\n",
       "    </tr>\n",
       "    <tr>\n",
       "      <th>7</th>\n",
       "      <td>40+</td>\n",
       "      <td>12</td>\n",
       "      <td>2.083333</td>\n",
       "    </tr>\n",
       "  </tbody>\n",
       "</table>\n",
       "</div>"
      ],
      "text/plain": [
       "  Age_Range  Total Count  Percentage of Players\n",
       "0       <10           17               2.951389\n",
       "1     10-14           22               3.819444\n",
       "2     15-19          107              18.576389\n",
       "3     20-24          258              44.791667\n",
       "4     25-29           77              13.368056\n",
       "5     30-34           52               9.027778\n",
       "6     35-39           31               5.381944\n",
       "7       40+           12               2.083333"
      ]
     },
     "execution_count": 30,
     "metadata": {},
     "output_type": "execute_result"
    }
   ],
   "source": [
    "#create bins \n",
    "bins = [0,9,14,19,24,29,34,39,50]\n",
    "# label the bins \n",
    "bin_labels = [\"<10\", \"10-14\", \"15-19\", \"20-24\", \"25-29\", \"30-34\", \"35-39\", \"40+\"]\n",
    "\n",
    "#Get SN and Age variables from columns 1 and 2 for serial number and age \n",
    "age_df = purchase_data.iloc[:,[1,2]]\n",
    "\n",
    "#drop the duplicates in the SN column  \n",
    "age_df_no_multi_sn = age_df.drop_duplicates(subset=[\"SN\"], keep=\"first\", inplace=False)\n",
    "\n",
    "#creates new columb age range, based upon age and the bins that are created above \n",
    "age_df_no_multi_sn [\"Age_Range\"] = pd.cut(selected_df2[\"Age\"], bins, labels = bin_labels)\n",
    "\n",
    "#sorts values from least to great for ages \n",
    "age_df_no_multi_sn.sort_values(by=[\"Age\"], ascending=True, inplace=True)\n",
    "\n",
    "#creates a group depending on how many times a selected age range occurs and puts it into the column of total count \n",
    "group = age_df_no_multi_sn.groupby([\"Age_Range\"]).size().to_frame(name= \"Total Count\").reset_index()\n",
    "\n",
    "#take each cell in the column of total count and add them up to obtain the total number of players \n",
    "total_players = group[\"Total Count\"].sum()\n",
    "\n",
    "#divide group vairable by total and get percentage \n",
    "group[\"Percentage of Players\"] = (group[\"Total Count\"]/total_players)*100\n",
    "\n",
    "\n",
    "group"
   ]
  },
  {
   "cell_type": "raw",
   "metadata": {},
   "source": [
    "## Purchasing Analysis (Age)"
   ]
  },
  {
   "cell_type": "markdown",
   "metadata": {},
   "source": [
    "* Bin the purchase_data data frame by age\n",
    "\n",
    "\n",
    "* Run basic calculations to obtain purchase count, avg. purchase price, avg. purchase total per person etc. in the table below\n",
    "\n",
    "\n",
    "* Create a summary data frame to hold the results\n",
    "\n",
    "\n",
    "* Optional: give the displayed data cleaner formatting\n",
    "\n",
    "\n",
    "* Display the summary data frame"
   ]
  },
  {
   "cell_type": "code",
   "execution_count": 12,
   "metadata": {},
   "outputs": [
    {
     "data": {
      "text/html": [
       "<div>\n",
       "<style scoped>\n",
       "    .dataframe tbody tr th:only-of-type {\n",
       "        vertical-align: middle;\n",
       "    }\n",
       "\n",
       "    .dataframe tbody tr th {\n",
       "        vertical-align: top;\n",
       "    }\n",
       "\n",
       "    .dataframe thead th {\n",
       "        text-align: right;\n",
       "    }\n",
       "</style>\n",
       "<table border=\"1\" class=\"dataframe\">\n",
       "  <thead>\n",
       "    <tr style=\"text-align: right;\">\n",
       "      <th></th>\n",
       "      <th>Purchase Count</th>\n",
       "      <th>Average Purchase Price</th>\n",
       "      <th>Total Purchase Value</th>\n",
       "      <th>Avg Total Purchase per Person</th>\n",
       "    </tr>\n",
       "    <tr>\n",
       "      <th>Age Group</th>\n",
       "      <th></th>\n",
       "      <th></th>\n",
       "      <th></th>\n",
       "      <th></th>\n",
       "    </tr>\n",
       "  </thead>\n",
       "  <tbody>\n",
       "    <tr>\n",
       "      <th>&lt;10</th>\n",
       "      <td>23</td>\n",
       "      <td>3.353478</td>\n",
       "      <td>77.13</td>\n",
       "      <td>4.537059</td>\n",
       "    </tr>\n",
       "    <tr>\n",
       "      <th>10-14</th>\n",
       "      <td>28</td>\n",
       "      <td>2.956429</td>\n",
       "      <td>82.78</td>\n",
       "      <td>3.762727</td>\n",
       "    </tr>\n",
       "    <tr>\n",
       "      <th>15-19</th>\n",
       "      <td>136</td>\n",
       "      <td>3.035956</td>\n",
       "      <td>412.89</td>\n",
       "      <td>3.858785</td>\n",
       "    </tr>\n",
       "    <tr>\n",
       "      <th>20-24</th>\n",
       "      <td>365</td>\n",
       "      <td>3.052219</td>\n",
       "      <td>1114.06</td>\n",
       "      <td>4.318062</td>\n",
       "    </tr>\n",
       "    <tr>\n",
       "      <th>25-29</th>\n",
       "      <td>101</td>\n",
       "      <td>2.900990</td>\n",
       "      <td>293.00</td>\n",
       "      <td>3.805195</td>\n",
       "    </tr>\n",
       "    <tr>\n",
       "      <th>30-34</th>\n",
       "      <td>73</td>\n",
       "      <td>2.931507</td>\n",
       "      <td>214.00</td>\n",
       "      <td>4.115385</td>\n",
       "    </tr>\n",
       "    <tr>\n",
       "      <th>35-39</th>\n",
       "      <td>41</td>\n",
       "      <td>3.601707</td>\n",
       "      <td>147.67</td>\n",
       "      <td>4.763548</td>\n",
       "    </tr>\n",
       "    <tr>\n",
       "      <th>40+</th>\n",
       "      <td>13</td>\n",
       "      <td>2.941538</td>\n",
       "      <td>38.24</td>\n",
       "      <td>3.186667</td>\n",
       "    </tr>\n",
       "  </tbody>\n",
       "</table>\n",
       "</div>"
      ],
      "text/plain": [
       "           Purchase Count  Average Purchase Price  Total Purchase Value  \\\n",
       "Age Group                                                                 \n",
       "<10                    23                3.353478                 77.13   \n",
       "10-14                  28                2.956429                 82.78   \n",
       "15-19                 136                3.035956                412.89   \n",
       "20-24                 365                3.052219               1114.06   \n",
       "25-29                 101                2.900990                293.00   \n",
       "30-34                  73                2.931507                214.00   \n",
       "35-39                  41                3.601707                147.67   \n",
       "40+                    13                2.941538                 38.24   \n",
       "\n",
       "           Avg Total Purchase per Person  \n",
       "Age Group                                 \n",
       "<10                             4.537059  \n",
       "10-14                           3.762727  \n",
       "15-19                           3.858785  \n",
       "20-24                           4.318062  \n",
       "25-29                           3.805195  \n",
       "30-34                           4.115385  \n",
       "35-39                           4.763548  \n",
       "40+                             3.186667  "
      ]
     },
     "execution_count": 12,
     "metadata": {},
     "output_type": "execute_result"
    }
   ],
   "source": [
    "bins = [0, 9, 14, 19, 24,29,34,39,46]\n",
    "\n",
    "# Create labels for bins\n",
    "group_labels = ['<10', '10-14', '15-19', '20-24', '25-29', '30-34','35-39','40+']\n",
    "pd.cut(purchase_data[\"Age\"], bins, labels=group_labels)\n",
    "purchase_data[\"Age Group\"] = pd.cut(purchase_data[\"Age\"], bins, labels=group_labels)\n",
    "\n",
    "# Create GroupBy by the age group \n",
    "purchase_data_group = purchase_data.groupby(\"Age Group\")\n",
    "\n",
    "# Find count of rows in each bin\n",
    "purchase_data_group_analysis = purchase_data_group[\"Price\"].count()\n",
    "\n",
    "#Average Purchase Price\n",
    "groupage_purchaseprice = purchase_data_group[\"Price\"].mean()\n",
    "\n",
    "#Total Purchase Value\n",
    "groupage_purchasevalue = purchase_data_group[\"Price\"].sum()\n",
    "\n",
    "#Avg Total Purchase per Person\n",
    "groupage_purchaseper = purchase_data_group[\"SN\"].nunique()\n",
    "\n",
    "\n",
    "groupage_avgppp = groupage_purchasevalue/groupage_purchaseper\n",
    "\n",
    "\n",
    "#data frame \n",
    "purchasing_analysis_age = pd.DataFrame({\"Purchase Count\":purchase_data_group_analysis,\n",
    "                                     \"Average Purchase Price\":groupage_purchaseprice,\n",
    "                                           \"Total Purchase Value\":groupage_purchasevalue,\n",
    "                                       \"Avg Total Purchase per Person\":groupage_avgppp})\n",
    "purchasing_analysis_age"
   ]
  },
  {
   "cell_type": "markdown",
   "metadata": {},
   "source": [
    "## Top Spenders"
   ]
  },
  {
   "cell_type": "markdown",
   "metadata": {},
   "source": [
    "* Run basic calculations to obtain the results in the table below\n",
    "\n",
    "\n",
    "* Create a summary data frame to hold the results\n",
    "\n",
    "\n",
    "* Sort the total purchase value column in descending order\n",
    "\n",
    "\n",
    "* Optional: give the displayed data cleaner formatting\n",
    "\n",
    "\n",
    "* Display a preview of the summary data frame\n",
    "\n"
   ]
  },
  {
   "cell_type": "code",
   "execution_count": 68,
   "metadata": {},
   "outputs": [
    {
     "data": {
      "text/html": [
       "<style  type=\"text/css\" >\n",
       "</style>  \n",
       "<table id=\"T_fff8da50_fb1e_11e8_838b_8c8590ad5c24\" > \n",
       "<thead>    <tr> \n",
       "        <th class=\"blank level0\" ></th> \n",
       "        <th class=\"col_heading level0 col0\" >Total Purchase Value</th> \n",
       "        <th class=\"col_heading level0 col1\" >Purchase Count</th> \n",
       "        <th class=\"col_heading level0 col2\" >Average Purchase Price</th> \n",
       "    </tr>    <tr> \n",
       "        <th class=\"index_name level0\" >SN</th> \n",
       "        <th class=\"blank\" ></th> \n",
       "        <th class=\"blank\" ></th> \n",
       "        <th class=\"blank\" ></th> \n",
       "    </tr></thead> \n",
       "<tbody>    <tr> \n",
       "        <th id=\"T_fff8da50_fb1e_11e8_838b_8c8590ad5c24level0_row0\" class=\"row_heading level0 row0\" >Lisosia93</th> \n",
       "        <td id=\"T_fff8da50_fb1e_11e8_838b_8c8590ad5c24row0_col0\" class=\"data row0 col0\" >$18.96</td> \n",
       "        <td id=\"T_fff8da50_fb1e_11e8_838b_8c8590ad5c24row0_col1\" class=\"data row0 col1\" >5</td> \n",
       "        <td id=\"T_fff8da50_fb1e_11e8_838b_8c8590ad5c24row0_col2\" class=\"data row0 col2\" >$3.79</td> \n",
       "    </tr>    <tr> \n",
       "        <th id=\"T_fff8da50_fb1e_11e8_838b_8c8590ad5c24level0_row1\" class=\"row_heading level0 row1\" >Idastidru52</th> \n",
       "        <td id=\"T_fff8da50_fb1e_11e8_838b_8c8590ad5c24row1_col0\" class=\"data row1 col0\" >$15.45</td> \n",
       "        <td id=\"T_fff8da50_fb1e_11e8_838b_8c8590ad5c24row1_col1\" class=\"data row1 col1\" >4</td> \n",
       "        <td id=\"T_fff8da50_fb1e_11e8_838b_8c8590ad5c24row1_col2\" class=\"data row1 col2\" >$3.86</td> \n",
       "    </tr>    <tr> \n",
       "        <th id=\"T_fff8da50_fb1e_11e8_838b_8c8590ad5c24level0_row2\" class=\"row_heading level0 row2\" >Chamjask73</th> \n",
       "        <td id=\"T_fff8da50_fb1e_11e8_838b_8c8590ad5c24row2_col0\" class=\"data row2 col0\" >$13.83</td> \n",
       "        <td id=\"T_fff8da50_fb1e_11e8_838b_8c8590ad5c24row2_col1\" class=\"data row2 col1\" >3</td> \n",
       "        <td id=\"T_fff8da50_fb1e_11e8_838b_8c8590ad5c24row2_col2\" class=\"data row2 col2\" >$4.61</td> \n",
       "    </tr>    <tr> \n",
       "        <th id=\"T_fff8da50_fb1e_11e8_838b_8c8590ad5c24level0_row3\" class=\"row_heading level0 row3\" >Iral74</th> \n",
       "        <td id=\"T_fff8da50_fb1e_11e8_838b_8c8590ad5c24row3_col0\" class=\"data row3 col0\" >$13.62</td> \n",
       "        <td id=\"T_fff8da50_fb1e_11e8_838b_8c8590ad5c24row3_col1\" class=\"data row3 col1\" >4</td> \n",
       "        <td id=\"T_fff8da50_fb1e_11e8_838b_8c8590ad5c24row3_col2\" class=\"data row3 col2\" >$3.40</td> \n",
       "    </tr>    <tr> \n",
       "        <th id=\"T_fff8da50_fb1e_11e8_838b_8c8590ad5c24level0_row4\" class=\"row_heading level0 row4\" >Iskadarya95</th> \n",
       "        <td id=\"T_fff8da50_fb1e_11e8_838b_8c8590ad5c24row4_col0\" class=\"data row4 col0\" >$13.10</td> \n",
       "        <td id=\"T_fff8da50_fb1e_11e8_838b_8c8590ad5c24row4_col1\" class=\"data row4 col1\" >3</td> \n",
       "        <td id=\"T_fff8da50_fb1e_11e8_838b_8c8590ad5c24row4_col2\" class=\"data row4 col2\" >$4.37</td> \n",
       "    </tr></tbody> \n",
       "</table> "
      ],
      "text/plain": [
       "<pandas.io.formats.style.Styler at 0x116189860>"
      ]
     },
     "execution_count": 68,
     "metadata": {},
     "output_type": "execute_result"
    }
   ],
   "source": [
    "\n",
    "# total number of purchase per person \n",
    "purchase_amt = pd.DataFrame(purchase_data.groupby('SN')['Price'].sum())\n",
    "# number of purchases per person \n",
    "num_purchase = pd.DataFrame(purchase_data.groupby('SN')['Price'].count())\n",
    "# average purchase person \n",
    "avg_purchase = pd.DataFrame(purchase_data.groupby('SN')['Price'].mean())\n",
    "\n",
    "\n",
    "# merge the above data frames into one dataframe\n",
    "merge = pd.merge(purchase_amt, num_purchase, left_index = True, right_index = True).merge(avg_purchase, left_index=True, right_index=True)\n",
    "# rename the columns\n",
    "merge.rename(columns = {'Price_x': 'Total Purchase Value', 'Price_y':'Purchase Count', 'Price':'Average Purchase Price'}, inplace = True)\n",
    "# sort from highest purchase value to lowest\n",
    "merge.sort_values('Total Purchase Value', ascending = False, inplace=True)\n",
    "\n",
    "merge = merge.head()\n",
    "\n",
    "\n",
    "merge.style.format({'Total Purchase Value': '${:.2f}', 'Average Purchase Price': '${:.2f}'})\n"
   ]
  },
  {
   "cell_type": "markdown",
   "metadata": {},
   "source": [
    "## Most Popular Items"
   ]
  },
  {
   "cell_type": "markdown",
   "metadata": {},
   "source": [
    "* Retrieve the Item ID, Item Name, and Item Price columns\n",
    "\n",
    "\n",
    "* Group by Item ID and Item Name. Perform calculations to obtain purchase count, item price, and total purchase value\n",
    "\n",
    "\n",
    "* Create a summary data frame to hold the results\n",
    "\n",
    "\n",
    "* Sort the purchase count column in descending order\n",
    "\n",
    "\n",
    "* Optional: give the displayed data cleaner formatting\n",
    "\n",
    "\n",
    "* Display a preview of the summary data frame\n",
    "\n"
   ]
  },
  {
   "cell_type": "code",
   "execution_count": 94,
   "metadata": {},
   "outputs": [
    {
     "data": {
      "text/html": [
       "<div>\n",
       "<style scoped>\n",
       "    .dataframe tbody tr th:only-of-type {\n",
       "        vertical-align: middle;\n",
       "    }\n",
       "\n",
       "    .dataframe tbody tr th {\n",
       "        vertical-align: top;\n",
       "    }\n",
       "\n",
       "    .dataframe thead th {\n",
       "        text-align: right;\n",
       "    }\n",
       "</style>\n",
       "<table border=\"1\" class=\"dataframe\">\n",
       "  <thead>\n",
       "    <tr style=\"text-align: right;\">\n",
       "      <th></th>\n",
       "      <th></th>\n",
       "      <th>Purchase Count</th>\n",
       "      <th>Item Price</th>\n",
       "      <th>Total Purchase Value</th>\n",
       "    </tr>\n",
       "    <tr>\n",
       "      <th>Item ID</th>\n",
       "      <th>Item Name</th>\n",
       "      <th></th>\n",
       "      <th></th>\n",
       "      <th></th>\n",
       "    </tr>\n",
       "  </thead>\n",
       "  <tbody>\n",
       "    <tr>\n",
       "      <th>178</th>\n",
       "      <th>Oathbreaker, Last Hope of the Breaking Storm</th>\n",
       "      <td>12</td>\n",
       "      <td>4.23</td>\n",
       "      <td>50.76</td>\n",
       "    </tr>\n",
       "    <tr>\n",
       "      <th>145</th>\n",
       "      <th>Fiery Glass Crusader</th>\n",
       "      <td>9</td>\n",
       "      <td>4.58</td>\n",
       "      <td>41.22</td>\n",
       "    </tr>\n",
       "    <tr>\n",
       "      <th>108</th>\n",
       "      <th>Extraction, Quickblade Of Trembling Hands</th>\n",
       "      <td>9</td>\n",
       "      <td>3.53</td>\n",
       "      <td>31.77</td>\n",
       "    </tr>\n",
       "    <tr>\n",
       "      <th>82</th>\n",
       "      <th>Nirvana</th>\n",
       "      <td>9</td>\n",
       "      <td>4.90</td>\n",
       "      <td>44.10</td>\n",
       "    </tr>\n",
       "    <tr>\n",
       "      <th>19</th>\n",
       "      <th>Pursuit, Cudgel of Necromancy</th>\n",
       "      <td>8</td>\n",
       "      <td>1.02</td>\n",
       "      <td>8.16</td>\n",
       "    </tr>\n",
       "    <tr>\n",
       "      <th>103</th>\n",
       "      <th>Singed Scalpel</th>\n",
       "      <td>8</td>\n",
       "      <td>4.35</td>\n",
       "      <td>34.80</td>\n",
       "    </tr>\n",
       "    <tr>\n",
       "      <th>75</th>\n",
       "      <th>Brutality Ivory Warmace</th>\n",
       "      <td>8</td>\n",
       "      <td>2.42</td>\n",
       "      <td>19.36</td>\n",
       "    </tr>\n",
       "    <tr>\n",
       "      <th>72</th>\n",
       "      <th>Winter's Bite</th>\n",
       "      <td>8</td>\n",
       "      <td>3.77</td>\n",
       "      <td>30.16</td>\n",
       "    </tr>\n",
       "    <tr>\n",
       "      <th>60</th>\n",
       "      <th>Wolf</th>\n",
       "      <td>8</td>\n",
       "      <td>3.54</td>\n",
       "      <td>28.32</td>\n",
       "    </tr>\n",
       "    <tr>\n",
       "      <th>59</th>\n",
       "      <th>Lightning, Etcher of the King</th>\n",
       "      <td>8</td>\n",
       "      <td>4.23</td>\n",
       "      <td>33.84</td>\n",
       "    </tr>\n",
       "  </tbody>\n",
       "</table>\n",
       "</div>"
      ],
      "text/plain": [
       "                                                      Purchase Count  \\\n",
       "Item ID Item Name                                                      \n",
       "178     Oathbreaker, Last Hope of the Breaking Storm              12   \n",
       "145     Fiery Glass Crusader                                       9   \n",
       "108     Extraction, Quickblade Of Trembling Hands                  9   \n",
       "82      Nirvana                                                    9   \n",
       "19      Pursuit, Cudgel of Necromancy                              8   \n",
       "103     Singed Scalpel                                             8   \n",
       "75      Brutality Ivory Warmace                                    8   \n",
       "72      Winter's Bite                                              8   \n",
       "60      Wolf                                                       8   \n",
       "59      Lightning, Etcher of the King                              8   \n",
       "\n",
       "                                                      Item Price  \\\n",
       "Item ID Item Name                                                  \n",
       "178     Oathbreaker, Last Hope of the Breaking Storm        4.23   \n",
       "145     Fiery Glass Crusader                                4.58   \n",
       "108     Extraction, Quickblade Of Trembling Hands           3.53   \n",
       "82      Nirvana                                             4.90   \n",
       "19      Pursuit, Cudgel of Necromancy                       1.02   \n",
       "103     Singed Scalpel                                      4.35   \n",
       "75      Brutality Ivory Warmace                             2.42   \n",
       "72      Winter's Bite                                       3.77   \n",
       "60      Wolf                                                3.54   \n",
       "59      Lightning, Etcher of the King                       4.23   \n",
       "\n",
       "                                                      Total Purchase Value  \n",
       "Item ID Item Name                                                           \n",
       "178     Oathbreaker, Last Hope of the Breaking Storm                 50.76  \n",
       "145     Fiery Glass Crusader                                         41.22  \n",
       "108     Extraction, Quickblade Of Trembling Hands                    31.77  \n",
       "82      Nirvana                                                      44.10  \n",
       "19      Pursuit, Cudgel of Necromancy                                 8.16  \n",
       "103     Singed Scalpel                                               34.80  \n",
       "75      Brutality Ivory Warmace                                      19.36  \n",
       "72      Winter's Bite                                                30.16  \n",
       "60      Wolf                                                         28.32  \n",
       "59      Lightning, Etcher of the King                                33.84  "
      ]
     },
     "execution_count": 94,
     "metadata": {},
     "output_type": "execute_result"
    }
   ],
   "source": [
    "\n",
    "\n",
    "# Purchase Count\n",
    "user_count = pd.DataFrame(purchase_data.groupby([\"Item ID\", \"Item Name\"])[\"Price\"].count())\n",
    "\n",
    "# Total Purchase Value\n",
    "user_total = pd.DataFrame(purchase_data.groupby([\"Item ID\", \"Item Name\"])[\"Price\"].sum())\n",
    "\n",
    "# Item Price\n",
    "user_average = pd.DataFrame(purchase_data.groupby([\"Item ID\", \"Item Name\"])[\"Price\"].mean())\n",
    "\n",
    "\n",
    "#create data frame \n",
    "table = pd.DataFrame({\"Purchase Count\": user_count ['Price'], \n",
    "                     \"Item Price\": user_average ['Price'],\n",
    "                     \"Total Purchase Value\": user_total ['Price']})\n",
    "\n",
    "\n",
    "\n",
    "table = table.sort_values(\"Purchase Count\", ascending=False)\n",
    "\n",
    "\n",
    "\n",
    "\n",
    "table[['Purchase Count','Item Price','Total Purchase Value']].head(10)"
   ]
  },
  {
   "cell_type": "markdown",
   "metadata": {},
   "source": [
    "## Most Profitable Items"
   ]
  },
  {
   "cell_type": "markdown",
   "metadata": {},
   "source": [
    "* Sort the above table by total purchase value in descending order\n",
    "\n",
    "\n",
    "* Optional: give the displayed data cleaner formatting\n",
    "\n",
    "\n",
    "* Display a preview of the data frame\n",
    "\n"
   ]
  },
  {
   "cell_type": "code",
   "execution_count": 95,
   "metadata": {},
   "outputs": [
    {
     "data": {
      "text/html": [
       "<div>\n",
       "<style scoped>\n",
       "    .dataframe tbody tr th:only-of-type {\n",
       "        vertical-align: middle;\n",
       "    }\n",
       "\n",
       "    .dataframe tbody tr th {\n",
       "        vertical-align: top;\n",
       "    }\n",
       "\n",
       "    .dataframe thead th {\n",
       "        text-align: right;\n",
       "    }\n",
       "</style>\n",
       "<table border=\"1\" class=\"dataframe\">\n",
       "  <thead>\n",
       "    <tr style=\"text-align: right;\">\n",
       "      <th></th>\n",
       "      <th></th>\n",
       "      <th>Purchase Count</th>\n",
       "      <th>Item Price</th>\n",
       "      <th>Total Purchase Value</th>\n",
       "    </tr>\n",
       "    <tr>\n",
       "      <th>Item ID</th>\n",
       "      <th>Item Name</th>\n",
       "      <th></th>\n",
       "      <th></th>\n",
       "      <th></th>\n",
       "    </tr>\n",
       "  </thead>\n",
       "  <tbody>\n",
       "    <tr>\n",
       "      <th>178</th>\n",
       "      <th>Oathbreaker, Last Hope of the Breaking Storm</th>\n",
       "      <td>12</td>\n",
       "      <td>4.23</td>\n",
       "      <td>50.76</td>\n",
       "    </tr>\n",
       "    <tr>\n",
       "      <th>82</th>\n",
       "      <th>Nirvana</th>\n",
       "      <td>9</td>\n",
       "      <td>4.90</td>\n",
       "      <td>44.10</td>\n",
       "    </tr>\n",
       "    <tr>\n",
       "      <th>145</th>\n",
       "      <th>Fiery Glass Crusader</th>\n",
       "      <td>9</td>\n",
       "      <td>4.58</td>\n",
       "      <td>41.22</td>\n",
       "    </tr>\n",
       "    <tr>\n",
       "      <th>92</th>\n",
       "      <th>Final Critic</th>\n",
       "      <td>8</td>\n",
       "      <td>4.88</td>\n",
       "      <td>39.04</td>\n",
       "    </tr>\n",
       "    <tr>\n",
       "      <th>103</th>\n",
       "      <th>Singed Scalpel</th>\n",
       "      <td>8</td>\n",
       "      <td>4.35</td>\n",
       "      <td>34.80</td>\n",
       "    </tr>\n",
       "    <tr>\n",
       "      <th>59</th>\n",
       "      <th>Lightning, Etcher of the King</th>\n",
       "      <td>8</td>\n",
       "      <td>4.23</td>\n",
       "      <td>33.84</td>\n",
       "    </tr>\n",
       "    <tr>\n",
       "      <th>108</th>\n",
       "      <th>Extraction, Quickblade Of Trembling Hands</th>\n",
       "      <td>9</td>\n",
       "      <td>3.53</td>\n",
       "      <td>31.77</td>\n",
       "    </tr>\n",
       "    <tr>\n",
       "      <th>78</th>\n",
       "      <th>Glimmer, Ender of the Moon</th>\n",
       "      <td>7</td>\n",
       "      <td>4.40</td>\n",
       "      <td>30.80</td>\n",
       "    </tr>\n",
       "    <tr>\n",
       "      <th>72</th>\n",
       "      <th>Winter's Bite</th>\n",
       "      <td>8</td>\n",
       "      <td>3.77</td>\n",
       "      <td>30.16</td>\n",
       "    </tr>\n",
       "    <tr>\n",
       "      <th>60</th>\n",
       "      <th>Wolf</th>\n",
       "      <td>8</td>\n",
       "      <td>3.54</td>\n",
       "      <td>28.32</td>\n",
       "    </tr>\n",
       "  </tbody>\n",
       "</table>\n",
       "</div>"
      ],
      "text/plain": [
       "                                                      Purchase Count  \\\n",
       "Item ID Item Name                                                      \n",
       "178     Oathbreaker, Last Hope of the Breaking Storm              12   \n",
       "82      Nirvana                                                    9   \n",
       "145     Fiery Glass Crusader                                       9   \n",
       "92      Final Critic                                               8   \n",
       "103     Singed Scalpel                                             8   \n",
       "59      Lightning, Etcher of the King                              8   \n",
       "108     Extraction, Quickblade Of Trembling Hands                  9   \n",
       "78      Glimmer, Ender of the Moon                                 7   \n",
       "72      Winter's Bite                                              8   \n",
       "60      Wolf                                                       8   \n",
       "\n",
       "                                                      Item Price  \\\n",
       "Item ID Item Name                                                  \n",
       "178     Oathbreaker, Last Hope of the Breaking Storm        4.23   \n",
       "82      Nirvana                                             4.90   \n",
       "145     Fiery Glass Crusader                                4.58   \n",
       "92      Final Critic                                        4.88   \n",
       "103     Singed Scalpel                                      4.35   \n",
       "59      Lightning, Etcher of the King                       4.23   \n",
       "108     Extraction, Quickblade Of Trembling Hands           3.53   \n",
       "78      Glimmer, Ender of the Moon                          4.40   \n",
       "72      Winter's Bite                                       3.77   \n",
       "60      Wolf                                                3.54   \n",
       "\n",
       "                                                      Total Purchase Value  \n",
       "Item ID Item Name                                                           \n",
       "178     Oathbreaker, Last Hope of the Breaking Storm                 50.76  \n",
       "82      Nirvana                                                      44.10  \n",
       "145     Fiery Glass Crusader                                         41.22  \n",
       "92      Final Critic                                                 39.04  \n",
       "103     Singed Scalpel                                               34.80  \n",
       "59      Lightning, Etcher of the King                                33.84  \n",
       "108     Extraction, Quickblade Of Trembling Hands                    31.77  \n",
       "78      Glimmer, Ender of the Moon                                   30.80  \n",
       "72      Winter's Bite                                                30.16  \n",
       "60      Wolf                                                         28.32  "
      ]
     },
     "execution_count": 95,
     "metadata": {},
     "output_type": "execute_result"
    }
   ],
   "source": [
    "# table2= table_x.sort_values(\"Total Purchase Value\", ascending=False)\n",
    "table2 = table.sort_values(\"Total Purchase Value\", ascending =False)\n",
    "table2.head(10)\n",
    "# table.head(5)"
   ]
  },
  {
   "cell_type": "code",
   "execution_count": null,
   "metadata": {},
   "outputs": [],
   "source": []
  },
  {
   "cell_type": "code",
   "execution_count": null,
   "metadata": {},
   "outputs": [],
   "source": []
  }
 ],
 "metadata": {
  "anaconda-cloud": {},
  "kernel_info": {
   "name": "python3"
  },
  "kernelspec": {
   "display_name": "Python 3",
   "language": "python",
   "name": "python3"
  },
  "language_info": {
   "codemirror_mode": {
    "name": "ipython",
    "version": 3
   },
   "file_extension": ".py",
   "mimetype": "text/x-python",
   "name": "python",
   "nbconvert_exporter": "python",
   "pygments_lexer": "ipython3",
   "version": "3.7.0"
  },
  "nteract": {
   "version": "0.2.0"
  }
 },
 "nbformat": 4,
 "nbformat_minor": 2
}
